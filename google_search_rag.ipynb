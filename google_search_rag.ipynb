{
 "cells": [
  {
   "cell_type": "code",
   "execution_count": 1,
   "metadata": {},
   "outputs": [],
   "source": [
    "from dotenv import load_dotenv\n",
    "import os\n",
    "load_dotenv()\n",
    "os.environ['TOKENIZERS_PARALLELISM'] = 'false'\n",
    "os.environ[\"LLAMA_INDEX_CACHE_DIR\"] = '/mnt/nfs/renjiyuan/HF_cache'\n",
    "os.environ['HF_HOME'] = '/mnt/nfs/renjiyuan/HF_cache'\n",
    "os.environ['HUGGINGFACE_HUB_CACHE'] = '/mnt/nfs/renjiyuan/HF_cache'"
   ]
  },
  {
   "cell_type": "code",
   "execution_count": 2,
   "metadata": {},
   "outputs": [
    {
     "name": "stderr",
     "output_type": "stream",
     "text": [
      "/home/renjiyuan/miniconda3/envs/rag_env/lib/python3.9/site-packages/tqdm/auto.py:21: TqdmWarning: IProgress not found. Please update jupyter and ipywidgets. See https://ipywidgets.readthedocs.io/en/stable/user_install.html\n",
      "  from .autonotebook import tqdm as notebook_tqdm\n"
     ]
    }
   ],
   "source": [
    "# Setup AzureOpenAI Agent\n",
    "from llama_index.llms.azure_openai import AzureOpenAI\n",
    "\n",
    "llm = AzureOpenAI(\n",
    "    engine=\"gpt-4\",\n",
    "    model=\"gpt-4\",\n",
    "    temperature=0.0\n",
    ")"
   ]
  },
  {
   "cell_type": "code",
   "execution_count": 3,
   "metadata": {},
   "outputs": [
    {
     "name": "stdout",
     "output_type": "stream",
     "text": [
      "Test api:\n",
      " beyond! \n",
      "\n",
      "This phrase is the famous catchphrase of Buzz Lightyear, a character from the Pixar animated film series \"Toy Story.\" It encapsulates the character's adventurous spirit and his belief that there are no limits to what one can achieve.\n"
     ]
    }
   ],
   "source": [
    "# test llm api\n",
    "completion_response = llm.complete(\"To infinity, and\")\n",
    "print('Test api:\\n', completion_response)"
   ]
  },
  {
   "cell_type": "code",
   "execution_count": 4,
   "metadata": {},
   "outputs": [
    {
     "name": "stderr",
     "output_type": "stream",
     "text": [
      "/tmp/ipykernel_156541/3935470633.py:4: DeprecationWarning: Call to deprecated function (or staticmethod) download_tool. (`download_tool()` is deprecated. Please install tool using pip install directly instead.)\n",
      "  GoogleSearchToolSpec = download_tool('GoogleSearchToolSpec')\n"
     ]
    },
    {
     "name": "stdout",
     "output_type": "stream",
     "text": [
      "Requirement already satisfied: llama-index-tools-google in /home/renjiyuan/miniconda3/envs/rag_env/lib/python3.9/site-packages (0.1.5)\n",
      "Requirement already satisfied: beautifulsoup4<5.0.0,>=4.12.3 in /home/renjiyuan/miniconda3/envs/rag_env/lib/python3.9/site-packages (from llama-index-tools-google) (4.12.3)\n",
      "Requirement already satisfied: google-api-python-client<3.0.0,>=2.115.0 in /home/renjiyuan/miniconda3/envs/rag_env/lib/python3.9/site-packages (from llama-index-tools-google) (2.129.0)\n",
      "Requirement already satisfied: google-auth-httplib2<0.3.0,>=0.2.0 in /home/renjiyuan/miniconda3/envs/rag_env/lib/python3.9/site-packages (from llama-index-tools-google) (0.2.0)\n",
      "Requirement already satisfied: google-auth-oauthlib<2.0.0,>=1.2.0 in /home/renjiyuan/miniconda3/envs/rag_env/lib/python3.9/site-packages (from llama-index-tools-google) (1.2.0)\n",
      "Requirement already satisfied: llama-index-core<0.11.0,>=0.10.1 in /home/renjiyuan/miniconda3/envs/rag_env/lib/python3.9/site-packages (from llama-index-tools-google) (0.10.35)\n",
      "Requirement already satisfied: soupsieve>1.2 in /home/renjiyuan/miniconda3/envs/rag_env/lib/python3.9/site-packages (from beautifulsoup4<5.0.0,>=4.12.3->llama-index-tools-google) (2.5)\n",
      "Requirement already satisfied: httplib2<1.dev0,>=0.19.0 in /home/renjiyuan/miniconda3/envs/rag_env/lib/python3.9/site-packages (from google-api-python-client<3.0.0,>=2.115.0->llama-index-tools-google) (0.22.0)\n",
      "Requirement already satisfied: google-auth!=2.24.0,!=2.25.0,<3.0.0.dev0,>=1.32.0 in /home/renjiyuan/miniconda3/envs/rag_env/lib/python3.9/site-packages (from google-api-python-client<3.0.0,>=2.115.0->llama-index-tools-google) (2.29.0)\n",
      "Requirement already satisfied: google-api-core!=2.0.*,!=2.1.*,!=2.2.*,!=2.3.0,<3.0.0.dev0,>=1.31.5 in /home/renjiyuan/miniconda3/envs/rag_env/lib/python3.9/site-packages (from google-api-python-client<3.0.0,>=2.115.0->llama-index-tools-google) (2.19.0)\n",
      "Requirement already satisfied: uritemplate<5,>=3.0.1 in /home/renjiyuan/miniconda3/envs/rag_env/lib/python3.9/site-packages (from google-api-python-client<3.0.0,>=2.115.0->llama-index-tools-google) (4.1.1)\n",
      "Requirement already satisfied: requests-oauthlib>=0.7.0 in /home/renjiyuan/miniconda3/envs/rag_env/lib/python3.9/site-packages (from google-auth-oauthlib<2.0.0,>=1.2.0->llama-index-tools-google) (2.0.0)\n",
      "Requirement already satisfied: PyYAML>=6.0.1 in /home/renjiyuan/miniconda3/envs/rag_env/lib/python3.9/site-packages (from llama-index-core<0.11.0,>=0.10.1->llama-index-tools-google) (6.0.1)\n",
      "Requirement already satisfied: SQLAlchemy>=1.4.49 in /home/renjiyuan/miniconda3/envs/rag_env/lib/python3.9/site-packages (from SQLAlchemy[asyncio]>=1.4.49->llama-index-core<0.11.0,>=0.10.1->llama-index-tools-google) (2.0.30)\n",
      "Requirement already satisfied: aiohttp<4.0.0,>=3.8.6 in /home/renjiyuan/miniconda3/envs/rag_env/lib/python3.9/site-packages (from llama-index-core<0.11.0,>=0.10.1->llama-index-tools-google) (3.9.5)\n",
      "Requirement already satisfied: dataclasses-json in /home/renjiyuan/miniconda3/envs/rag_env/lib/python3.9/site-packages (from llama-index-core<0.11.0,>=0.10.1->llama-index-tools-google) (0.6.5)\n",
      "Requirement already satisfied: deprecated>=1.2.9.3 in /home/renjiyuan/.local/lib/python3.9/site-packages (from llama-index-core<0.11.0,>=0.10.1->llama-index-tools-google) (1.2.13)\n",
      "Requirement already satisfied: dirtyjson<2.0.0,>=1.0.8 in /home/renjiyuan/miniconda3/envs/rag_env/lib/python3.9/site-packages (from llama-index-core<0.11.0,>=0.10.1->llama-index-tools-google) (1.0.8)\n",
      "Requirement already satisfied: fsspec>=2023.5.0 in /home/renjiyuan/miniconda3/envs/rag_env/lib/python3.9/site-packages (from llama-index-core<0.11.0,>=0.10.1->llama-index-tools-google) (2024.3.1)\n",
      "Requirement already satisfied: httpx in /home/renjiyuan/miniconda3/envs/rag_env/lib/python3.9/site-packages (from llama-index-core<0.11.0,>=0.10.1->llama-index-tools-google) (0.27.0)\n",
      "Requirement already satisfied: llamaindex-py-client<0.2.0,>=0.1.18 in /home/renjiyuan/miniconda3/envs/rag_env/lib/python3.9/site-packages (from llama-index-core<0.11.0,>=0.10.1->llama-index-tools-google) (0.1.19)\n",
      "Requirement already satisfied: nest-asyncio<2.0.0,>=1.5.8 in /home/renjiyuan/miniconda3/envs/rag_env/lib/python3.9/site-packages (from llama-index-core<0.11.0,>=0.10.1->llama-index-tools-google) (1.6.0)\n",
      "Requirement already satisfied: networkx>=3.0 in /home/renjiyuan/miniconda3/envs/rag_env/lib/python3.9/site-packages (from llama-index-core<0.11.0,>=0.10.1->llama-index-tools-google) (3.1)\n",
      "Requirement already satisfied: nltk<4.0.0,>=3.8.1 in /home/renjiyuan/miniconda3/envs/rag_env/lib/python3.9/site-packages (from llama-index-core<0.11.0,>=0.10.1->llama-index-tools-google) (3.8.1)\n",
      "Requirement already satisfied: numpy in /home/renjiyuan/miniconda3/envs/rag_env/lib/python3.9/site-packages (from llama-index-core<0.11.0,>=0.10.1->llama-index-tools-google) (1.24.4)\n",
      "Requirement already satisfied: openai>=1.1.0 in /home/renjiyuan/miniconda3/envs/rag_env/lib/python3.9/site-packages (from llama-index-core<0.11.0,>=0.10.1->llama-index-tools-google) (1.26.0)\n",
      "Requirement already satisfied: pandas in /home/renjiyuan/.local/lib/python3.9/site-packages (from llama-index-core<0.11.0,>=0.10.1->llama-index-tools-google) (1.5.1)\n",
      "Requirement already satisfied: pillow>=9.0.0 in /home/renjiyuan/miniconda3/envs/rag_env/lib/python3.9/site-packages (from llama-index-core<0.11.0,>=0.10.1->llama-index-tools-google) (10.3.0)\n",
      "Requirement already satisfied: requests>=2.31.0 in /home/renjiyuan/miniconda3/envs/rag_env/lib/python3.9/site-packages (from llama-index-core<0.11.0,>=0.10.1->llama-index-tools-google) (2.31.0)\n",
      "Requirement already satisfied: tenacity<9.0.0,>=8.2.0 in /home/renjiyuan/miniconda3/envs/rag_env/lib/python3.9/site-packages (from llama-index-core<0.11.0,>=0.10.1->llama-index-tools-google) (8.3.0)\n",
      "Requirement already satisfied: tiktoken>=0.3.3 in /home/renjiyuan/miniconda3/envs/rag_env/lib/python3.9/site-packages (from llama-index-core<0.11.0,>=0.10.1->llama-index-tools-google) (0.6.0)\n",
      "Requirement already satisfied: tqdm<5.0.0,>=4.66.1 in /home/renjiyuan/miniconda3/envs/rag_env/lib/python3.9/site-packages (from llama-index-core<0.11.0,>=0.10.1->llama-index-tools-google) (4.66.4)\n",
      "Requirement already satisfied: typing-extensions>=4.5.0 in /home/renjiyuan/miniconda3/envs/rag_env/lib/python3.9/site-packages (from llama-index-core<0.11.0,>=0.10.1->llama-index-tools-google) (4.11.0)\n",
      "Requirement already satisfied: typing-inspect>=0.8.0 in /home/renjiyuan/miniconda3/envs/rag_env/lib/python3.9/site-packages (from llama-index-core<0.11.0,>=0.10.1->llama-index-tools-google) (0.9.0)\n",
      "Requirement already satisfied: wrapt in /home/renjiyuan/.local/lib/python3.9/site-packages (from llama-index-core<0.11.0,>=0.10.1->llama-index-tools-google) (1.14.1)\n",
      "Requirement already satisfied: aiosignal>=1.1.2 in /home/renjiyuan/miniconda3/envs/rag_env/lib/python3.9/site-packages (from aiohttp<4.0.0,>=3.8.6->llama-index-core<0.11.0,>=0.10.1->llama-index-tools-google) (1.3.1)\n",
      "Requirement already satisfied: attrs>=17.3.0 in /home/renjiyuan/miniconda3/envs/rag_env/lib/python3.9/site-packages (from aiohttp<4.0.0,>=3.8.6->llama-index-core<0.11.0,>=0.10.1->llama-index-tools-google) (23.2.0)\n",
      "Requirement already satisfied: frozenlist>=1.1.1 in /home/renjiyuan/miniconda3/envs/rag_env/lib/python3.9/site-packages (from aiohttp<4.0.0,>=3.8.6->llama-index-core<0.11.0,>=0.10.1->llama-index-tools-google) (1.4.1)\n",
      "Requirement already satisfied: multidict<7.0,>=4.5 in /home/renjiyuan/miniconda3/envs/rag_env/lib/python3.9/site-packages (from aiohttp<4.0.0,>=3.8.6->llama-index-core<0.11.0,>=0.10.1->llama-index-tools-google) (6.0.5)\n",
      "Requirement already satisfied: yarl<2.0,>=1.0 in /home/renjiyuan/miniconda3/envs/rag_env/lib/python3.9/site-packages (from aiohttp<4.0.0,>=3.8.6->llama-index-core<0.11.0,>=0.10.1->llama-index-tools-google) (1.9.4)\n",
      "Requirement already satisfied: async-timeout<5.0,>=4.0 in /home/renjiyuan/.local/lib/python3.9/site-packages (from aiohttp<4.0.0,>=3.8.6->llama-index-core<0.11.0,>=0.10.1->llama-index-tools-google) (4.0.2)\n",
      "Requirement already satisfied: googleapis-common-protos<2.0.dev0,>=1.56.2 in /home/renjiyuan/miniconda3/envs/rag_env/lib/python3.9/site-packages (from google-api-core!=2.0.*,!=2.1.*,!=2.2.*,!=2.3.0,<3.0.0.dev0,>=1.31.5->google-api-python-client<3.0.0,>=2.115.0->llama-index-tools-google) (1.63.0)\n",
      "Requirement already satisfied: protobuf!=3.20.0,!=3.20.1,!=4.21.0,!=4.21.1,!=4.21.2,!=4.21.3,!=4.21.4,!=4.21.5,<5.0.0.dev0,>=3.19.5 in /home/renjiyuan/miniconda3/envs/rag_env/lib/python3.9/site-packages (from google-api-core!=2.0.*,!=2.1.*,!=2.2.*,!=2.3.0,<3.0.0.dev0,>=1.31.5->google-api-python-client<3.0.0,>=2.115.0->llama-index-tools-google) (4.25.3)\n",
      "Requirement already satisfied: proto-plus<2.0.0dev,>=1.22.3 in /home/renjiyuan/miniconda3/envs/rag_env/lib/python3.9/site-packages (from google-api-core!=2.0.*,!=2.1.*,!=2.2.*,!=2.3.0,<3.0.0.dev0,>=1.31.5->google-api-python-client<3.0.0,>=2.115.0->llama-index-tools-google) (1.23.0)\n",
      "Requirement already satisfied: cachetools<6.0,>=2.0.0 in /home/renjiyuan/miniconda3/envs/rag_env/lib/python3.9/site-packages (from google-auth!=2.24.0,!=2.25.0,<3.0.0.dev0,>=1.32.0->google-api-python-client<3.0.0,>=2.115.0->llama-index-tools-google) (5.3.3)\n",
      "Requirement already satisfied: pyasn1-modules>=0.2.1 in /home/renjiyuan/miniconda3/envs/rag_env/lib/python3.9/site-packages (from google-auth!=2.24.0,!=2.25.0,<3.0.0.dev0,>=1.32.0->google-api-python-client<3.0.0,>=2.115.0->llama-index-tools-google) (0.4.0)\n",
      "Requirement already satisfied: rsa<5,>=3.1.4 in /home/renjiyuan/miniconda3/envs/rag_env/lib/python3.9/site-packages (from google-auth!=2.24.0,!=2.25.0,<3.0.0.dev0,>=1.32.0->google-api-python-client<3.0.0,>=2.115.0->llama-index-tools-google) (4.9)\n",
      "Requirement already satisfied: pyparsing!=3.0.0,!=3.0.1,!=3.0.2,!=3.0.3,<4,>=2.4.2 in /home/renjiyuan/.local/lib/python3.9/site-packages (from httplib2<1.dev0,>=0.19.0->google-api-python-client<3.0.0,>=2.115.0->llama-index-tools-google) (3.0.9)\n",
      "Requirement already satisfied: pydantic>=1.10 in /home/renjiyuan/miniconda3/envs/rag_env/lib/python3.9/site-packages (from llamaindex-py-client<0.2.0,>=0.1.18->llama-index-core<0.11.0,>=0.10.1->llama-index-tools-google) (1.10.15)\n",
      "Requirement already satisfied: anyio in /home/renjiyuan/miniconda3/envs/rag_env/lib/python3.9/site-packages (from httpx->llama-index-core<0.11.0,>=0.10.1->llama-index-tools-google) (4.3.0)\n",
      "Requirement already satisfied: certifi in /home/renjiyuan/miniconda3/envs/rag_env/lib/python3.9/site-packages (from httpx->llama-index-core<0.11.0,>=0.10.1->llama-index-tools-google) (2024.2.2)\n",
      "Requirement already satisfied: httpcore==1.* in /home/renjiyuan/miniconda3/envs/rag_env/lib/python3.9/site-packages (from httpx->llama-index-core<0.11.0,>=0.10.1->llama-index-tools-google) (1.0.5)\n",
      "Requirement already satisfied: idna in /home/renjiyuan/miniconda3/envs/rag_env/lib/python3.9/site-packages (from httpx->llama-index-core<0.11.0,>=0.10.1->llama-index-tools-google) (3.7)\n",
      "Requirement already satisfied: sniffio in /home/renjiyuan/.local/lib/python3.9/site-packages (from httpx->llama-index-core<0.11.0,>=0.10.1->llama-index-tools-google) (1.3.0)\n",
      "Requirement already satisfied: h11<0.15,>=0.13 in /home/renjiyuan/miniconda3/envs/rag_env/lib/python3.9/site-packages (from httpcore==1.*->httpx->llama-index-core<0.11.0,>=0.10.1->llama-index-tools-google) (0.14.0)\n",
      "Requirement already satisfied: click in /home/renjiyuan/miniconda3/envs/rag_env/lib/python3.9/site-packages (from nltk<4.0.0,>=3.8.1->llama-index-core<0.11.0,>=0.10.1->llama-index-tools-google) (8.1.7)\n",
      "Requirement already satisfied: joblib in /home/renjiyuan/.local/lib/python3.9/site-packages (from nltk<4.0.0,>=3.8.1->llama-index-core<0.11.0,>=0.10.1->llama-index-tools-google) (1.2.0)\n",
      "Requirement already satisfied: regex>=2021.8.3 in /home/renjiyuan/miniconda3/envs/rag_env/lib/python3.9/site-packages (from nltk<4.0.0,>=3.8.1->llama-index-core<0.11.0,>=0.10.1->llama-index-tools-google) (2024.4.28)\n",
      "Requirement already satisfied: distro<2,>=1.7.0 in /home/renjiyuan/miniconda3/envs/rag_env/lib/python3.9/site-packages (from openai>=1.1.0->llama-index-core<0.11.0,>=0.10.1->llama-index-tools-google) (1.9.0)\n",
      "Requirement already satisfied: charset-normalizer<4,>=2 in /home/renjiyuan/miniconda3/envs/rag_env/lib/python3.9/site-packages (from requests>=2.31.0->llama-index-core<0.11.0,>=0.10.1->llama-index-tools-google) (3.3.2)\n",
      "Requirement already satisfied: urllib3<3,>=1.21.1 in /home/renjiyuan/miniconda3/envs/rag_env/lib/python3.9/site-packages (from requests>=2.31.0->llama-index-core<0.11.0,>=0.10.1->llama-index-tools-google) (2.2.1)\n",
      "Requirement already satisfied: oauthlib>=3.0.0 in /home/renjiyuan/miniconda3/envs/rag_env/lib/python3.9/site-packages (from requests-oauthlib>=0.7.0->google-auth-oauthlib<2.0.0,>=1.2.0->llama-index-tools-google) (3.2.2)\n",
      "Requirement already satisfied: greenlet!=0.4.17 in /home/renjiyuan/miniconda3/envs/rag_env/lib/python3.9/site-packages (from SQLAlchemy>=1.4.49->SQLAlchemy[asyncio]>=1.4.49->llama-index-core<0.11.0,>=0.10.1->llama-index-tools-google) (3.0.3)\n",
      "Requirement already satisfied: mypy-extensions>=0.3.0 in /home/renjiyuan/miniconda3/envs/rag_env/lib/python3.9/site-packages (from typing-inspect>=0.8.0->llama-index-core<0.11.0,>=0.10.1->llama-index-tools-google) (1.0.0)\n",
      "Requirement already satisfied: marshmallow<4.0.0,>=3.18.0 in /home/renjiyuan/miniconda3/envs/rag_env/lib/python3.9/site-packages (from dataclasses-json->llama-index-core<0.11.0,>=0.10.1->llama-index-tools-google) (3.21.2)\n",
      "Requirement already satisfied: python-dateutil>=2.8.1 in /home/renjiyuan/.local/lib/python3.9/site-packages (from pandas->llama-index-core<0.11.0,>=0.10.1->llama-index-tools-google) (2.8.2)\n",
      "Requirement already satisfied: pytz>=2020.1 in /home/renjiyuan/.local/lib/python3.9/site-packages (from pandas->llama-index-core<0.11.0,>=0.10.1->llama-index-tools-google) (2022.5)\n",
      "Requirement already satisfied: exceptiongroup>=1.0.2 in /home/renjiyuan/miniconda3/envs/rag_env/lib/python3.9/site-packages (from anyio->httpx->llama-index-core<0.11.0,>=0.10.1->llama-index-tools-google) (1.2.1)\n",
      "Requirement already satisfied: packaging>=17.0 in /home/renjiyuan/miniconda3/envs/rag_env/lib/python3.9/site-packages (from marshmallow<4.0.0,>=3.18.0->dataclasses-json->llama-index-core<0.11.0,>=0.10.1->llama-index-tools-google) (24.0)\n",
      "Requirement already satisfied: pyasn1<0.7.0,>=0.4.6 in /home/renjiyuan/miniconda3/envs/rag_env/lib/python3.9/site-packages (from pyasn1-modules>=0.2.1->google-auth!=2.24.0,!=2.25.0,<3.0.0.dev0,>=1.32.0->google-api-python-client<3.0.0,>=2.115.0->llama-index-tools-google) (0.6.0)\n",
      "Requirement already satisfied: six>=1.5 in /home/renjiyuan/miniconda3/envs/rag_env/lib/python3.9/site-packages (from python-dateutil>=2.8.1->pandas->llama-index-core<0.11.0,>=0.10.1->llama-index-tools-google) (1.16.0)\n"
     ]
    }
   ],
   "source": [
    "from llama_index.core.tools.download import download_tool\n",
    "from llama_index.core.tools.tool_spec.load_and_search.base import LoadAndSearchToolSpec\n",
    "# download google search tool\n",
    "GoogleSearchToolSpec = download_tool('GoogleSearchToolSpec')\n",
    "\n",
    "# setup GoogleSearchToolSpec\n",
    "# key and engine could be found in https://developers.google.com/custom-search/v1/introduction?hl=zh-cn\n",
    "engine = ''\n",
    "key = ''\n",
    "google_spec = GoogleSearchToolSpec(key=key, engine=engine)\n",
    "\n",
    "# prepare tools\n",
    "tools = LoadAndSearchToolSpec.from_defaults(\n",
    "    google_spec.to_tool_list()[0],\n",
    ").to_tool_list()"
   ]
  },
  {
   "cell_type": "code",
   "execution_count": 5,
   "metadata": {},
   "outputs": [],
   "source": [
    "from llama_index.core.embeddings import resolve_embed_model\n",
    "from llama_index.core import Settings\n",
    "\n",
    "# setting the embed model, for default embed model is openai.\n",
    "# If you have the key of openai, you can set it in the env and skip this step.\n",
    "Settings.embed_model = resolve_embed_model(\"local:BAAI/bge-small-en-v1.5\")\n",
    "Settings.llm = llm"
   ]
  },
  {
   "cell_type": "code",
   "execution_count": 6,
   "metadata": {},
   "outputs": [],
   "source": [
    "from llama_index.core.agent import AgentRunner\n",
    "# this method will automatically pick the best agent depending on the LLM\n",
    "agent = AgentRunner.from_llm(tools, llm=llm, verbose=True)\n",
    "\n",
    "# or\n",
    "# from llama_index.core.agent import ReActAgent\n",
    "# agent = ReActAgent.from_tools(tools, llm=llm, verbose=True)"
   ]
  },
  {
   "cell_type": "code",
   "execution_count": 7,
   "metadata": {},
   "outputs": [
    {
     "name": "stdout",
     "output_type": "stream",
     "text": [
      "Added user message to memory: What is DI-engine?\n",
      "=== Calling Function ===\n",
      "Calling function: google_search with args: {\"query\":\"DI-engine\"}\n",
      "Got output: Content loaded! You can now search the information using read_google_search\n",
      "========================\n",
      "\n",
      "=== Calling Function ===\n",
      "Calling function: read_google_search with args: {\"query\":\"What is DI-engine?\"}\n",
      "Got output: DI-engine is a generalized decision intelligence engine for PyTorch and JAX, designed to be Python-first. It is an open-source project hosted on GitHub, where developers can contribute to its development. The engine is part of the OpenDILab Decision AI Engine initiative.\n",
      "========================\n",
      "\n"
     ]
    },
    {
     "data": {
      "text/plain": [
       "AgentChatResponse(response='DI-engine is a generalized decision intelligence engine that supports PyTorch and JAX, designed with a Python-first approach. It is an open-source project available on GitHub, and it is part of the OpenDILab Decision AI Engine initiative, which encourages contributions from developers to its development.', sources=[ToolOutput(content='Content loaded! You can now search the information using read_google_search', tool_name='google_search', raw_input={'args': (), 'kwargs': {'query': 'DI-engine'}}, raw_output='Content loaded! You can now search the information using read_google_search', is_error=False), ToolOutput(content='DI-engine is a generalized decision intelligence engine for PyTorch and JAX, designed to be Python-first. It is an open-source project hosted on GitHub, where developers can contribute to its development. The engine is part of the OpenDILab Decision AI Engine initiative.', tool_name='read_google_search', raw_input={'args': (), 'kwargs': {'query': 'What is DI-engine?'}}, raw_output='DI-engine is a generalized decision intelligence engine for PyTorch and JAX, designed to be Python-first. It is an open-source project hosted on GitHub, where developers can contribute to its development. The engine is part of the OpenDILab Decision AI Engine initiative.', is_error=False)], source_nodes=[], is_dummy_stream=False)"
      ]
     },
     "execution_count": 7,
     "metadata": {},
     "output_type": "execute_result"
    }
   ],
   "source": [
    "# test \n",
    "agent.chat(\"What is DI-engine?\")"
   ]
  }
 ],
 "metadata": {
  "kernelspec": {
   "display_name": "rag_env",
   "language": "python",
   "name": "python3"
  },
  "language_info": {
   "codemirror_mode": {
    "name": "ipython",
    "version": 3
   },
   "file_extension": ".py",
   "mimetype": "text/x-python",
   "name": "python",
   "nbconvert_exporter": "python",
   "pygments_lexer": "ipython3",
   "version": "3.9.19"
  }
 },
 "nbformat": 4,
 "nbformat_minor": 2
}
