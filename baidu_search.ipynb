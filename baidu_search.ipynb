{
 "cells": [
  {
   "cell_type": "code",
   "execution_count": 1,
   "metadata": {},
   "outputs": [],
   "source": [
    "from dotenv import load_dotenv\n",
    "import os\n",
    "load_dotenv()\n",
    "os.environ['TOKENIZERS_PARALLELISM'] = 'false'\n",
    "os.environ[\"LLAMA_INDEX_CACHE_DIR\"] = '/mnt/nfs/renjiyuan/HF_cache'\n",
    "os.environ['HF_HOME'] = '/mnt/nfs/renjiyuan/HF_cache'\n",
    "os.environ['HUGGINGFACE_HUB_CACHE'] = '/mnt/nfs/renjiyuan/HF_cache'"
   ]
  },
  {
   "cell_type": "code",
   "execution_count": 2,
   "metadata": {},
   "outputs": [
    {
     "name": "stderr",
     "output_type": "stream",
     "text": [
      "/home/renjiyuan/miniconda3/envs/rag_env/lib/python3.9/site-packages/tqdm/auto.py:21: TqdmWarning: IProgress not found. Please update jupyter and ipywidgets. See https://ipywidgets.readthedocs.io/en/stable/user_install.html\n",
      "  from .autonotebook import tqdm as notebook_tqdm\n"
     ]
    }
   ],
   "source": [
    "# Setup AzureOpenAI Agent\n",
    "from llama_index.llms.azure_openai import AzureOpenAI\n",
    "\n",
    "llm = AzureOpenAI(\n",
    "    engine=\"gpt-4\",\n",
    "    model=\"gpt-4\",\n",
    "    temperature=0.0\n",
    ")"
   ]
  },
  {
   "cell_type": "code",
   "execution_count": 3,
   "metadata": {},
   "outputs": [
    {
     "name": "stdout",
     "output_type": "stream",
     "text": [
      "Test api:\n",
      " beyond! \n",
      "\n",
      "This phrase is the iconic catchphrase of Buzz Lightyear, a character from the \"Toy Story\" franchise produced by Pixar Animation Studios and released by Walt Disney Pictures. Buzz Lightyear is a space ranger action figure and one of the main characters in the series, known for his bravery and somewhat delusional belief that he is a real space ranger rather than a toy. The phrase encapsulates his adventurous spirit and has become synonymous with taking on challenges without limits.\n"
     ]
    }
   ],
   "source": [
    "# test llm api\n",
    "completion_response = llm.complete(\"To infinity, and\")\n",
    "print('Test api:\\n', completion_response)"
   ]
  },
  {
   "cell_type": "code",
   "execution_count": 4,
   "metadata": {},
   "outputs": [],
   "source": [
    "from llama_index.core.tools.download import download_tool\n",
    "from llama_index.core.tools.tool_spec.load_and_search.base import LoadAndSearchToolSpec\n",
    "from baidu_search_tool import BaiduSearchToolSpec\n",
    "\n",
    "# setup GoogleSearchToolSpec\n",
    "baidu_spec = BaiduSearchToolSpec()\n",
    "\n",
    "# prepare tools\n",
    "tools = LoadAndSearchToolSpec.from_defaults(\n",
    "    baidu_spec.to_tool_list()[0],\n",
    ").to_tool_list()"
   ]
  },
  {
   "cell_type": "code",
   "execution_count": 5,
   "metadata": {},
   "outputs": [],
   "source": [
    "from llama_index.core.embeddings import resolve_embed_model\n",
    "from llama_index.core import Settings\n",
    "\n",
    "# setting the embed model, for default embed model is openai.\n",
    "# If you have the key of openai, you can set it in the env and skip this step.\n",
    "Settings.embed_model = resolve_embed_model(\"local:BAAI/bge-small-en-v1.5\")\n",
    "Settings.llm = llm"
   ]
  },
  {
   "cell_type": "code",
   "execution_count": 6,
   "metadata": {},
   "outputs": [],
   "source": [
    "from llama_index.core.agent import AgentRunner, ReActAgent\n",
    "# this method will automatically pick the best agent depending on the LLM\n",
    "# agent = AgentRunner.from_llm(tools, llm=llm, verbose=True)\n",
    "\n",
    "# or\n",
    "# from llama_index.core.agent import ReActAgent\n",
    "agent = ReActAgent.from_tools(tools, llm=llm, verbose=True)"
   ]
  },
  {
   "cell_type": "code",
   "execution_count": 7,
   "metadata": {},
   "outputs": [
    {
     "name": "stdout",
     "output_type": "stream",
     "text": [
      "\u001b[1;3;38;5;200mThought: The current language of the user is Chinese. I need to use a tool to help me answer the question about the meaning of the phrase \"山高水长\" in Chinese.\n",
      "Action: baidu_search\n",
      "Action Input: {'query': '山高水长 意思'}\n",
      "\u001b[0m[ERROR] https://www.baidu.com/baidu?wd=%E5%B1%B1%E9%AB%98%E6%B0%B4%E9%95%BF%20%E6%84%8F%E6%80%9D&tn=monline_dg&ie=utf-8 请求失败: HTTPSConnectionPool(host='www.baidu.com', port=443): Read timed out. (read timeout=60)\n",
      "\u001b[1;3;34mObservation: Content loaded! You can now search the information using read_baidu_search\n",
      "\u001b[0m\u001b[1;3;38;5;200mThought: Now that the content is loaded, I can use the read_baidu_search tool to find the meaning of the phrase \"山高水长\".\n",
      "Action: read_baidu_search\n",
      "Action Input: {'query': '山高水长是什么意思'}\n",
      "\u001b[0m\u001b[1;3;34mObservation: \"山高水长\"是一个汉语成语，拼音为shān gāo shuǐ cháng，意思是像山一样高耸，如水一般长流。这个成语原本用来比喻人的风范或声誉像高山一样永远存在，后来也用来比喻恩德深厚。\n",
      "\u001b[0m\u001b[1;3;38;5;200mThought: I can answer without using any more tools. I'll use the user's language to answer.\n",
      "Answer: \"山高水长\"是一个汉语成语，表示像山一样高耸，如水一样长流。它原本用来形容人的风范或声誉像高山一样永存，后来也用来形容恩德深厚。\n",
      "\u001b[0m"
     ]
    },
    {
     "data": {
      "text/plain": [
       "AgentChatResponse(response='\"山高水长\"是一个汉语成语，表示像山一样高耸，如水一样长流。它原本用来形容人的风范或声誉像高山一样永存，后来也用来形容恩德深厚。', sources=[ToolOutput(content='Content loaded! You can now search the information using read_baidu_search', tool_name='baidu_search', raw_input={'args': (), 'kwargs': {'query': '山高水长 意思'}}, raw_output='Content loaded! You can now search the information using read_baidu_search', is_error=False), ToolOutput(content='\"山高水长\"是一个汉语成语，拼音为shān gāo shuǐ cháng，意思是像山一样高耸，如水一般长流。这个成语原本用来比喻人的风范或声誉像高山一样永远存在，后来也用来比喻恩德深厚。', tool_name='read_baidu_search', raw_input={'args': (), 'kwargs': {'query': '山高水长是什么意思'}}, raw_output='\"山高水长\"是一个汉语成语，拼音为shān gāo shuǐ cháng，意思是像山一样高耸，如水一般长流。这个成语原本用来比喻人的风范或声誉像高山一样永远存在，后来也用来比喻恩德深厚。', is_error=False)], source_nodes=[], is_dummy_stream=False)"
      ]
     },
     "execution_count": 7,
     "metadata": {},
     "output_type": "execute_result"
    }
   ],
   "source": [
    "# test \n",
    "agent.chat(\"中文里面山高水长是什么意思？\")"
   ]
  }
 ],
 "metadata": {
  "kernelspec": {
   "display_name": "rag_env",
   "language": "python",
   "name": "python3"
  },
  "language_info": {
   "codemirror_mode": {
    "name": "ipython",
    "version": 3
   },
   "file_extension": ".py",
   "mimetype": "text/x-python",
   "name": "python",
   "nbconvert_exporter": "python",
   "pygments_lexer": "ipython3",
   "version": "3.9.19"
  }
 },
 "nbformat": 4,
 "nbformat_minor": 2
}
